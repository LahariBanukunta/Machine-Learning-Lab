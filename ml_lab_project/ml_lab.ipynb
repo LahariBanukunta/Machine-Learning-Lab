import os
import re
import pandas as pd
import numpy as np
import warnings
from flask import Flask, render_template, request, send_file, jsonify
from sklearn.model_selection import train_test_split
from sklearn.linear_model import LogisticRegression
from sklearn.metrics import f1_score
from sklearn.feature_extraction.text import TfidfVectorizer
from nltk import PorterStemmer
from werkzeug.serving import run_simple
from threading import Thread

# Initialize Flask app
app = Flask(__name__)
app.config['UPLOAD_FOLDER'] = os.path.join(os.getcwd(), 'uploads')  # Ensure the path is absolute
app.config['RESULT_FILE'] = os.path.join(os.getcwd(), 'predicted_sentiments.csv')

# Ignore warnings
warnings.filterwarnings("ignore", category=DeprecationWarning)

# Helper functions
def remove_pattern(text, pattern):
    if not isinstance(text, str):
        return ''
    r = re.findall(pattern, text)
    for i in r:
        text = re.sub(i, "", text)
    return text

def preprocess_data(data):
    data['text'] = data['text'].fillna('')
    data['Cleaned_Text'] = np.vectorize(remove_pattern)(data['text'], "@[\w]*")
    tokenized_tweets = data['Cleaned_Text'].apply(lambda x: x.split())
    ps = PorterStemmer()
    tokenized_tweets = tokenized_tweets.apply(lambda x: [ps.stem(i) for i in x])
    for i in range(len(tokenized_tweets)):
        tokenized_tweets[i] = ' '.join(tokenized_tweets[i])
    data['Cleaned_Text'] = tokenized_tweets
    return data

# Route for the main page
# Route for the main page
@app.route('/')
def index():
    return '''
    <!DOCTYPE html>
<html lang="en">
<head>
    <meta charset="UTF-8">
    <meta name="viewport" content="width=device-width, initial-scale=1.0">
    <title>Upload Your Datasets</title>
    <!-- Correct way to link CSS -->
    <link rel="stylesheet" type="text/css" href="{{ url_for('static', filename='css/styles.css') }}">
</head>
<body>
    <div class="container">
        <h1>Upload Your Datasets</h1>
        <form action="/generate_results" method="post" enctype="multipart/form-data">
            <label for="train_file">Upload train.csv:</label>
            <input type="file" name="train_file" required>
            <br><br>
            <label for="test_file">Upload test.csv:</label>
            <input type="file" name="test_file" required>
            <br><br>
            <button type="submit">Generate Results</button>
        </form>
    </div>
</body>
</html>

    '''


# Route to handle file upload and processing
@app.route('/generate_results', methods=['POST'])
def generate_results():
    if 'train_file' not in request.files or 'test_file' not in request.files:
        return jsonify({"error": "Please upload both train.csv and test.csv files."}), 400

    # Create the uploads directory if it doesn't exist
    if not os.path.exists(app.config['UPLOAD_FOLDER']):
        os.makedirs(app.config['UPLOAD_FOLDER'])
        print(f"Created folder at: {app.config['UPLOAD_FOLDER']}")  # Debugging message

    # Load the files
    train_file = request.files['train_file']
    test_file = request.files['test_file']

    # Save the files to the upload folder
    train_path = os.path.join(app.config['UPLOAD_FOLDER'], 'train.csv')
    test_path = os.path.join(app.config['UPLOAD_FOLDER'], 'test.csv')
    train_file.save(train_path)
    test_file.save(test_path)

    # Read the datasets
    train = pd.read_csv(train_path)
    test = pd.read_csv(test_path)

    # Preprocess the training and test data
    train = preprocess_data(train)
    test = preprocess_data(test)

    # Vectorize the tweets
    tfidf = TfidfVectorizer(max_df=0.90, min_df=2, max_features=1000, stop_words='english')
    tfidf_matrix = tfidf.fit_transform(train['Cleaned_Text'])

    # Train/test split and train the model
    x_train_tfidf, x_valid_tfidf, y_train, y_valid = train_test_split(tfidf_matrix, train['sentiment'], test_size=0.3, random_state=17)
    log_reg = LogisticRegression(max_iter=1000)
    log_reg.fit(x_train_tfidf, y_train)

    # Predict on the test set
    test_tfidf_matrix = tfidf.transform(test['Cleaned_Text'])
    test['predicted_sentiment'] = log_reg.predict(test_tfidf_matrix)

    # Save the predictions to a CSV file
    output = test[['text', 'predicted_sentiment']]
    output.to_csv(app.config['RESULT_FILE'], index=False)

    # Serve the file as a downloadable link
    return send_file(app.config['RESULT_FILE'], as_attachment=True)

# Function to run the app in a separate thread
def run_app():
    run_simple("localhost", 5000, app)

# Start Flask app in a thread
thread = Thread(target=run_app)
thread.start()
